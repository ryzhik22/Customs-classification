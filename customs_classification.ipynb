{
 "cells": [
  {
   "cell_type": "code",
   "execution_count": 1,
   "metadata": {},
   "outputs": [],
   "source": [
    "%matplotlib inline\n",
    "import matplotlib\n",
    "import matplotlib.pyplot as plt\n",
    "import pandas as pd\n",
    "import numpy as np\n",
    "from collections import Counter\n",
    "from tqdm import tqdm_notebook"
   ]
  },
  {
   "cell_type": "code",
   "execution_count": 57,
   "metadata": {},
   "outputs": [],
   "source": [
    "df_prec = pd.read_csv('precedents.csv', sep = ';')"
   ]
  },
  {
   "cell_type": "code",
   "execution_count": 2,
   "metadata": {},
   "outputs": [
    {
     "data": {
      "text/plain": [
       "Index(['ten_code', 'six_code', 'prec_description', 'corrections'], dtype='object')"
      ]
     },
     "execution_count": 2,
     "metadata": {},
     "output_type": "execute_result"
    }
   ],
   "source": [
    "df_prec = pd.read_csv('prec_with_corrections.csv', sep = ',')\n",
    "df_prec.columns"
   ]
  },
  {
   "cell_type": "code",
   "execution_count": 3,
   "metadata": {},
   "outputs": [
    {
     "data": {
      "text/plain": [
       "978244"
      ]
     },
     "execution_count": 3,
     "metadata": {},
     "output_type": "execute_result"
    }
   ],
   "source": [
    "df_prec = df_prec[df_prec['corrections'].map(len) > 1].reset_index(drop=True)\n",
    "#df_prec = df_prec.drop_duplicates().reset_index(drop=True)                 #if we delete duplicates\n",
    "len(df_prec)"
   ]
  },
  {
   "cell_type": "code",
   "execution_count": 4,
   "metadata": {},
   "outputs": [
    {
     "name": "stdout",
     "output_type": "stream",
     "text": [
      "mean description length:  4.906167581912079+-3.4718857482746337\n"
     ]
    },
    {
     "data": {
      "image/png": "[encoded data removed]",
      "text/plain": [
       "<Figure size 432x288 with 1 Axes>"
      ]
     },
     "metadata": {
      "needs_background": "light"
     },
     "output_type": "display_data"
    }
   ],
   "source": [
    "descrp_lens = [len(df_prec['corrections'][i].split()) for i in range(len(df_prec))]\n",
    "df_prec['descrp_lens'] = descrp_lens\n",
    "print('mean description length: ', str(np.mean(np.array(descrp_lens)))+ '+-' + str(np.std(np.array(descrp_lens)))) \n",
    "plt.hist(descrp_lens, bins=50)\n",
    "plt.title('The lengths of descriptions')\n",
    "plt.yscale('log')"
   ]
  },
  {
   "cell_type": "code",
   "execution_count": 5,
   "metadata": {},
   "outputs": [],
   "source": [
    "df_prec = df_prec[df_prec.descrp_lens < 100].reset_index(drop=True)"
   ]
  },
  {
   "cell_type": "code",
   "execution_count": 6,
   "metadata": {},
   "outputs": [
    {
     "data": {
      "text/plain": [
       "Text(0.5, 1.0, 'The lengths of descriptions')"
      ]
     },
     "execution_count": 6,
     "metadata": {},
     "output_type": "execute_result"
    },
    {
     "data": {
      "image/png": "[encoded data removed]",
      "text/plain": [
       "<Figure size 432x288 with 1 Axes>"
      ]
     },
     "metadata": {
      "needs_background": "light"
     },
     "output_type": "display_data"
    }
   ],
   "source": [
    "plt.hist(df_prec['descrp_lens'], bins=50)\n",
    "plt.yscale('log')\n",
    "plt.title(\"The lengths of descriptions\")"
   ]
  },
  {
   "cell_type": "code",
   "execution_count": 7,
   "metadata": {},
   "outputs": [],
   "source": [
    "del descrp_lens"
   ]
  },
  {
   "cell_type": "code",
   "execution_count": 8,
   "metadata": {},
   "outputs": [
    {
     "data": {
      "text/plain": [
       "206"
      ]
     },
     "execution_count": 8,
     "metadata": {},
     "output_type": "execute_result"
    }
   ],
   "source": [
    "class_counts = Counter(df_prec['six_code'])\n",
    "classes = []\n",
    "classes += [k for k, v in class_counts.items() if v >= 800]\n",
    "len(classes)"
   ]
  },
  {
   "cell_type": "code",
   "execution_count": 10,
   "metadata": {},
   "outputs": [],
   "source": [
    "del df_prec"
   ]
  },
  {
   "cell_type": "code",
   "execution_count": 9,
   "metadata": {},
   "outputs": [
    {
     "data": {
      "text/html": [
       "<div>\n",
       "<style scoped>\n",
       "    .dataframe tbody tr th:only-of-type {\n",
       "        vertical-align: middle;\n",
       "    }\n",
       "\n",
       "    .dataframe tbody tr th {\n",
       "        vertical-align: top;\n",
       "    }\n",
       "\n",
       "    .dataframe thead th {\n",
       "        text-align: right;\n",
       "    }\n",
       "</style>\n",
       "<table border=\"1\" class=\"dataframe\">\n",
       "  <thead>\n",
       "    <tr style=\"text-align: right;\">\n",
       "      <th></th>\n",
       "      <th>ten_code</th>\n",
       "      <th>six_code</th>\n",
       "      <th>prec_description</th>\n",
       "      <th>corrections</th>\n",
       "      <th>descrp_lens</th>\n",
       "    </tr>\n",
       "  </thead>\n",
       "  <tbody>\n",
       "    <tr>\n",
       "      <th>0</th>\n",
       "      <td>7308909809</td>\n",
       "      <td>730890</td>\n",
       "      <td>части магистрального ленточного конвейера круп...</td>\n",
       "      <td>части магистрального ленточного конвейера круп...</td>\n",
       "      <td>16</td>\n",
       "    </tr>\n",
       "    <tr>\n",
       "      <th>1</th>\n",
       "      <td>8431498009</td>\n",
       "      <td>843149</td>\n",
       "      <td>компоненты гусеничного крана бывший в употребл...</td>\n",
       "      <td>компоненты гусеничного крана бывший употреблен...</td>\n",
       "      <td>15</td>\n",
       "    </tr>\n",
       "    <tr>\n",
       "      <th>2</th>\n",
       "      <td>3919900000</td>\n",
       "      <td>391990</td>\n",
       "      <td>скотч</td>\n",
       "      <td>скотч</td>\n",
       "      <td>1</td>\n",
       "    </tr>\n",
       "    <tr>\n",
       "      <th>3</th>\n",
       "      <td>7326909409</td>\n",
       "      <td>732690</td>\n",
       "      <td>балка</td>\n",
       "      <td>балка</td>\n",
       "      <td>1</td>\n",
       "    </tr>\n",
       "    <tr>\n",
       "      <th>4</th>\n",
       "      <td>7326909409</td>\n",
       "      <td>732690</td>\n",
       "      <td>уголки</td>\n",
       "      <td>уголки</td>\n",
       "      <td>1</td>\n",
       "    </tr>\n",
       "  </tbody>\n",
       "</table>\n",
       "</div>"
      ],
      "text/plain": [
       "     ten_code  six_code                                   prec_description  \\\n",
       "0  7308909809    730890  части магистрального ленточного конвейера круп...   \n",
       "1  8431498009    843149  компоненты гусеничного крана бывший в употребл...   \n",
       "2  3919900000    391990                                              скотч   \n",
       "3  7326909409    732690                                              балка   \n",
       "4  7326909409    732690                                             уголки   \n",
       "\n",
       "                                         corrections  descrp_lens  \n",
       "0  части магистрального ленточного конвейера круп...           16  \n",
       "1  компоненты гусеничного крана бывший употреблен...           15  \n",
       "2                                              скотч            1  \n",
       "3                                              балка            1  \n",
       "4                                             уголки            1  "
      ]
     },
     "execution_count": 9,
     "metadata": {},
     "output_type": "execute_result"
    }
   ],
   "source": [
    "df_short = pd.DataFrame()\n",
    "df_short = df_prec.loc[df_prec['six_code'].isin(classes)]\n",
    "df_short.head()"
   ]
  },
  {
   "cell_type": "code",
   "execution_count": 11,
   "metadata": {},
   "outputs": [],
   "source": [
    "d = {ni: indi for indi, ni in enumerate(set(df_short['six_code']))}\n",
    "numbers = [d[ni] for ni in df_short['six_code']]\n",
    "\n",
    "df_short['classes_six'] = numbers"
   ]
  },
  {
   "cell_type": "code",
   "execution_count": 113,
   "metadata": {},
   "outputs": [],
   "source": [
    "df_short = pd.read_csv('prec_with_lemmas.csv', sep = ',')"
   ]
  },
  {
   "cell_type": "code",
   "execution_count": 54,
   "metadata": {},
   "outputs": [],
   "source": [
    "codes_dict = Counter(df_prec['ten_code'])\n",
    "\n",
    "sum_1000, sum_100, sum_10, sum_0 = 0, 0, 0, 0\n",
    "for value in dict(codes_dict).values():\n",
    "#    print(key, value)\n",
    "    if value > 1000:\n",
    "        sum_1000 +=1\n",
    "    elif 100 < value < 1000:\n",
    "        sum_100 += 1\n",
    "    elif 10 < value < 100:\n",
    "        sum_10 +=1\n",
    "    else:\n",
    "        sum_0 +=1\n",
    "        "
   ]
  },
  {
   "cell_type": "code",
   "execution_count": 55,
   "metadata": {},
   "outputs": [
    {
     "data": {
      "image/png": "[encoded data removed]",
      "text/plain": [
       "<matplotlib.figure.Figure at 0x7fe0bf07a518>"
      ]
     },
     "metadata": {},
     "output_type": "display_data"
    }
   ],
   "source": [
    "labels = ['>1000', '100< .. < 1000', '10< .. <100', '< 10']\n",
    "values = [sum_1000, sum_100, sum_10, sum_0]\n",
    "fig1, ax1 = plt.subplots()\n",
    "ax1.pie(values, labels=labels, autopct='%1.2f%%')\n",
    "ax1.axis('equal')\n",
    "#ax1.legend(loc='best');\n",
    "plt.show()"
   ]
  },
  {
   "cell_type": "code",
   "execution_count": 46,
   "metadata": {},
   "outputs": [],
   "source": [
    "from pymystem3 import Mystem               #lemmatization\n",
    "\n",
    "m = Mystem()\n",
    "lemmas = [''.join(m.lemmatize(description)).strip() for description in tqdm_notebook(df_short['corrections'])]\n",
    "df_short['lemmas'] = lemmas"
   ]
  },
  {
   "cell_type": "code",
   "execution_count": 16,
   "metadata": {},
   "outputs": [],
   "source": [
    "df_short = df_short[df_short['lemmas'].map(len) > 1].reset_index(drop=True)"
   ]
  },
  {
   "cell_type": "code",
   "execution_count": 22,
   "metadata": {},
   "outputs": [],
   "source": [
    "df_short.to_csv('prec_with_lemmas.csv') "
   ]
  },
  {
   "cell_type": "code",
   "execution_count": 56,
   "metadata": {},
   "outputs": [
    {
     "data": {
      "text/html": [
       "<div>\n",
       "<style scoped>\n",
       "    .dataframe tbody tr th:only-of-type {\n",
       "        vertical-align: middle;\n",
       "    }\n",
       "\n",
       "    .dataframe tbody tr th {\n",
       "        vertical-align: top;\n",
       "    }\n",
       "\n",
       "    .dataframe thead th {\n",
       "        text-align: right;\n",
       "    }\n",
       "</style>\n",
       "<table border=\"1\" class=\"dataframe\">\n",
       "  <thead>\n",
       "    <tr style=\"text-align: right;\">\n",
       "      <th></th>\n",
       "      <th>ten_code</th>\n",
       "      <th>six_code</th>\n",
       "      <th>prec_description</th>\n",
       "      <th>corrections</th>\n",
       "      <th>descrp_lens</th>\n",
       "      <th>classes_six</th>\n",
       "    </tr>\n",
       "  </thead>\n",
       "  <tbody>\n",
       "    <tr>\n",
       "      <th>0</th>\n",
       "      <td>7308909809</td>\n",
       "      <td>730890</td>\n",
       "      <td>части магистрального ленточного конвейера круп...</td>\n",
       "      <td>части магистрального ленточного конвейера круп...</td>\n",
       "      <td>16</td>\n",
       "      <td>89</td>\n",
       "    </tr>\n",
       "    <tr>\n",
       "      <th>1</th>\n",
       "      <td>8431498009</td>\n",
       "      <td>843149</td>\n",
       "      <td>компоненты гусеничного крана бывший в употребл...</td>\n",
       "      <td>компоненты гусеничного крана бывший употреблен...</td>\n",
       "      <td>15</td>\n",
       "      <td>159</td>\n",
       "    </tr>\n",
       "    <tr>\n",
       "      <th>2</th>\n",
       "      <td>3919900000</td>\n",
       "      <td>391990</td>\n",
       "      <td>скотч</td>\n",
       "      <td>скотч</td>\n",
       "      <td>1</td>\n",
       "      <td>118</td>\n",
       "    </tr>\n",
       "    <tr>\n",
       "      <th>3</th>\n",
       "      <td>7326909409</td>\n",
       "      <td>732690</td>\n",
       "      <td>балка</td>\n",
       "      <td>балка</td>\n",
       "      <td>1</td>\n",
       "      <td>6</td>\n",
       "    </tr>\n",
       "    <tr>\n",
       "      <th>4</th>\n",
       "      <td>7326909409</td>\n",
       "      <td>732690</td>\n",
       "      <td>уголки</td>\n",
       "      <td>уголки</td>\n",
       "      <td>1</td>\n",
       "      <td>6</td>\n",
       "    </tr>\n",
       "  </tbody>\n",
       "</table>\n",
       "</div>"
      ],
      "text/plain": [
       "     ten_code  six_code                                   prec_description  \\\n",
       "0  7308909809    730890  части магистрального ленточного конвейера круп...   \n",
       "1  8431498009    843149  компоненты гусеничного крана бывший в употребл...   \n",
       "2  3919900000    391990                                              скотч   \n",
       "3  7326909409    732690                                              балка   \n",
       "4  7326909409    732690                                             уголки   \n",
       "\n",
       "                                         corrections  descrp_lens  classes_six  \n",
       "0  части магистрального ленточного конвейера круп...           16           89  \n",
       "1  компоненты гусеничного крана бывший употреблен...           15          159  \n",
       "2                                              скотч            1          118  \n",
       "3                                              балка            1            6  \n",
       "4                                             уголки            1            6  "
      ]
     },
     "execution_count": 56,
     "metadata": {},
     "output_type": "execute_result"
    }
   ],
   "source": [
    "df_short.head()"
   ]
  },
  {
   "cell_type": "code",
   "execution_count": 12,
   "metadata": {},
   "outputs": [],
   "source": [
    "from sklearn.feature_extraction.text import TfidfVectorizer\n",
    "from sklearn.feature_extraction.text import CountVectorizer "
   ]
  },
  {
   "cell_type": "code",
   "execution_count": 13,
   "metadata": {},
   "outputs": [
    {
     "name": "stdout",
     "output_type": "stream",
     "text": [
      "Train size =  679827\n",
      "Validation size =  169957\n"
     ]
    }
   ],
   "source": [
    "from sklearn.model_selection import train_test_split\n",
    "\n",
    "seed=42\n",
    "#data_train, data_test = train_test_split(df_short, test_size=0.1, shuffle = True, random_state=seed)\n",
    "data_train, data_val = train_test_split(df_short, test_size=0.2, shuffle = True, random_state=seed, stratify=list(df_short['six_code']))\n",
    "\n",
    "print(\"Train size = \", len(data_train))\n",
    "print(\"Validation size = \", len(data_val))"
   ]
  },
  {
   "cell_type": "code",
   "execution_count": 25,
   "metadata": {},
   "outputs": [
    {
     "name": "stdout",
     "output_type": "stream",
     "text": [
      "Train size =  228145\n",
      "Validation size =  86152\n"
     ]
    }
   ],
   "source": [
    "data_train = data_train.drop_duplicates()\n",
    "data_val = data_val.drop_duplicates()\n",
    "\n",
    "print(\"Train size = \", len(data_train))\n",
    "print(\"Validation size = \", len(data_val))"
   ]
  },
  {
   "cell_type": "code",
   "execution_count": 14,
   "metadata": {},
   "outputs": [],
   "source": [
    "def data_without_stopws(data, stopws):\n",
    "    corrections_stopws = []\n",
    "    for text in list(data['corrections']):\n",
    "        text_clean = ' '.join([word for word in text.split() if word not in stopws])\n",
    "        corrections_stopws.append(text_clean)\n",
    "    return corrections_stopws"
   ]
  },
  {
   "cell_type": "code",
   "execution_count": 15,
   "metadata": {},
   "outputs": [
    {
     "name": "stdout",
     "output_type": "stream",
     "text": [
      "26903\n"
     ]
    },
    {
     "name": "stderr",
     "output_type": "stream",
     "text": [
      "/home/kirill/CSprogs/miniconda3/lib/python3.6/site-packages/ipykernel_launcher.py:8: SettingWithCopyWarning: \n",
      "A value is trying to be set on a copy of a slice from a DataFrame.\n",
      "Try using .loc[row_indexer,col_indexer] = value instead\n",
      "\n",
      "See the caveats in the documentation: http://pandas.pydata.org/pandas-docs/stable/indexing.html#indexing-view-versus-copy\n",
      "  \n",
      "/home/kirill/CSprogs/miniconda3/lib/python3.6/site-packages/ipykernel_launcher.py:9: SettingWithCopyWarning: \n",
      "A value is trying to be set on a copy of a slice from a DataFrame.\n",
      "Try using .loc[row_indexer,col_indexer] = value instead\n",
      "\n",
      "See the caveats in the documentation: http://pandas.pydata.org/pandas-docs/stable/indexing.html#indexing-view-versus-copy\n",
      "  if __name__ == '__main__':\n"
     ]
    }
   ],
   "source": [
    "vectorizer = CountVectorizer(min_df=2)\n",
    "vectorizer.fit(data_train['corrections'])\n",
    "stopws = vectorizer.stop_words_\n",
    "print(len(stopws))\n",
    "\n",
    "corr_stopws_train = data_without_stopws(data_train, stopws)\n",
    "corr_stopws_val = data_without_stopws(data_val, stopws)\n",
    "data_train['corrections'] = corr_stopws_train\n",
    "data_val['corrections'] = corr_stopws_val\n",
    "\n",
    "data_train = data_train[data_train['corrections'].map(len) > 1].reset_index(drop=True)\n",
    "data_val = data_val[data_val['corrections'].map(len) > 1].reset_index(drop=True)\n"
   ]
  },
  {
   "cell_type": "code",
   "execution_count": 16,
   "metadata": {},
   "outputs": [],
   "source": [
    "del corr_stopws_train\n",
    "del corr_stopws_val"
   ]
  },
  {
   "cell_type": "code",
   "execution_count": 18,
   "metadata": {},
   "outputs": [],
   "source": [
    "del df_short"
   ]
  },
  {
   "cell_type": "code",
   "execution_count": 17,
   "metadata": {},
   "outputs": [
    {
     "name": "stdout",
     "output_type": "stream",
     "text": [
      "Train size after stopwords deletion=  679515\n",
      "Validation size after stopwords deletion =  169832\n"
     ]
    }
   ],
   "source": [
    "print(\"Train size after stopwords deletion= \", len(data_train))\n",
    "print(\"Validation size after stopwords deletion = \", len(data_val))\n"
   ]
  },
  {
   "cell_type": "code",
   "execution_count": 90,
   "metadata": {},
   "outputs": [
    {
     "data": {
      "text/html": [
       "<div>\n",
       "<style scoped>\n",
       "    .dataframe tbody tr th:only-of-type {\n",
       "        vertical-align: middle;\n",
       "    }\n",
       "\n",
       "    .dataframe tbody tr th {\n",
       "        vertical-align: top;\n",
       "    }\n",
       "\n",
       "    .dataframe thead th {\n",
       "        text-align: right;\n",
       "    }\n",
       "</style>\n",
       "<table border=\"1\" class=\"dataframe\">\n",
       "  <thead>\n",
       "    <tr style=\"text-align: right;\">\n",
       "      <th></th>\n",
       "      <th>ten_code</th>\n",
       "      <th>six_code</th>\n",
       "      <th>prec_description</th>\n",
       "      <th>corrections</th>\n",
       "      <th>descrp_lens</th>\n",
       "      <th>classes_six</th>\n",
       "    </tr>\n",
       "  </thead>\n",
       "  <tbody>\n",
       "    <tr>\n",
       "      <th>0</th>\n",
       "      <td>6505009000</td>\n",
       "      <td>650500</td>\n",
       "      <td>головной убор муж полиэстер акрил</td>\n",
       "      <td>головной убор муж полиэстер акрил</td>\n",
       "      <td>5</td>\n",
       "      <td>86</td>\n",
       "    </tr>\n",
       "    <tr>\n",
       "      <th>1</th>\n",
       "      <td>3926909709</td>\n",
       "      <td>392690</td>\n",
       "      <td>трубный фиксатор из пластмассы d</td>\n",
       "      <td>трубный фиксатор пластмассы</td>\n",
       "      <td>3</td>\n",
       "      <td>200</td>\n",
       "    </tr>\n",
       "    <tr>\n",
       "      <th>2</th>\n",
       "      <td>4016930005</td>\n",
       "      <td>401693</td>\n",
       "      <td>уплотнительное кольцо o ring b</td>\n",
       "      <td>уплотнительное кольцо ring</td>\n",
       "      <td>3</td>\n",
       "      <td>100</td>\n",
       "    </tr>\n",
       "    <tr>\n",
       "      <th>3</th>\n",
       "      <td>8205591000</td>\n",
       "      <td>820559</td>\n",
       "      <td>терка строительная</td>\n",
       "      <td>терка строительная</td>\n",
       "      <td>2</td>\n",
       "      <td>128</td>\n",
       "    </tr>\n",
       "    <tr>\n",
       "      <th>4</th>\n",
       "      <td>2710198200</td>\n",
       "      <td>271019</td>\n",
       "      <td>моторное масло titan supersyn w l для легковог...</td>\n",
       "      <td>моторное масло titan supersyn для легкового тр...</td>\n",
       "      <td>9</td>\n",
       "      <td>53</td>\n",
       "    </tr>\n",
       "  </tbody>\n",
       "</table>\n",
       "</div>"
      ],
      "text/plain": [
       "     ten_code  six_code                                   prec_description  \\\n",
       "0  6505009000    650500                 головной убор муж полиэстер акрил    \n",
       "1  3926909709    392690                  трубный фиксатор из пластмассы d    \n",
       "2  4016930005    401693                     уплотнительное кольцо o ring b   \n",
       "3  8205591000    820559                                 терка строительная   \n",
       "4  2710198200    271019  моторное масло titan supersyn w l для легковог...   \n",
       "\n",
       "                                         corrections  descrp_lens  classes_six  \n",
       "0                  головной убор муж полиэстер акрил            5           86  \n",
       "1                        трубный фиксатор пластмассы            3          200  \n",
       "2                         уплотнительное кольцо ring            3          100  \n",
       "3                                 терка строительная            2          128  \n",
       "4  моторное масло titan supersyn для легкового тр...            9           53  "
      ]
     },
     "execution_count": 90,
     "metadata": {},
     "output_type": "execute_result"
    }
   ],
   "source": [
    "data_train.head()"
   ]
  },
  {
   "cell_type": "code",
   "execution_count": 19,
   "metadata": {},
   "outputs": [],
   "source": [
    "#Models\n",
    "from sklearn.ensemble import RandomForestClassifier\n",
    "from xgboost import XGBClassifier\n",
    "from sklearn.linear_model import LogisticRegression\n",
    "from sklearn.model_selection import GridSearchCV\n",
    "from sklearn.pipeline import Pipeline\n",
    "from sklearn.naive_bayes import MultinomialNB\n",
    "\n",
    "mb_clf = MultinomialNB(alpha=0.0001)\n",
    "rf = RandomForestClassifier(n_estimators = 10, n_jobs=-1)\n",
    "xgb = XGBClassifier()\n",
    "lr = LogisticRegression(C=0.1, class_weight=None, solver='saga', \n",
    "                         multi_class='multinomial', random_state=40)\n",
    "\n",
    "\n"
   ]
  },
  {
   "cell_type": "code",
   "execution_count": 20,
   "metadata": {},
   "outputs": [],
   "source": [
    "from nltk.corpus import stopwords\n",
    "stopws = set(stopwords.words('russian'))"
   ]
  },
  {
   "cell_type": "code",
   "execution_count": 21,
   "metadata": {},
   "outputs": [],
   "source": [
    "vectorizer = TfidfVectorizer(stop_words = stopws)\n",
    "X_traintfidf = vectorizer.fit_transform(data_train['corrections'])\n",
    "#len(vectorizer.stop_words_)"
   ]
  },
  {
   "cell_type": "code",
   "execution_count": 22,
   "metadata": {},
   "outputs": [
    {
     "data": {
      "text/plain": [
       "RandomForestClassifier(bootstrap=True, class_weight=None, criterion='gini',\n",
       "            max_depth=None, max_features='auto', max_leaf_nodes=None,\n",
       "            min_impurity_decrease=0.0, min_impurity_split=None,\n",
       "            min_samples_leaf=1, min_samples_split=2,\n",
       "            min_weight_fraction_leaf=0.0, n_estimators=10, n_jobs=-1,\n",
       "            oob_score=False, random_state=None, verbose=0,\n",
       "            warm_start=False)"
      ]
     },
     "execution_count": 22,
     "metadata": {},
     "output_type": "execute_result"
    }
   ],
   "source": [
    "rf.fit(X_traintfidf, data_train['classes_six'])"
   ]
  },
  {
   "cell_type": "code",
   "execution_count": null,
   "metadata": {},
   "outputs": [
    {
     "name": "stderr",
     "output_type": "stream",
     "text": [
      "/root/.pyenv/versions/3.6.0/lib/python3.6/site-packages/sklearn/linear_model/sag.py:326: ConvergenceWarning: The max_iter was reached which means the coef_ did not converge\n",
      "  \"the coef_ did not converge\", ConvergenceWarning)\n",
      "/root/.pyenv/versions/3.6.0/lib/python3.6/site-packages/sklearn/linear_model/sag.py:326: ConvergenceWarning: The max_iter was reached which means the coef_ did not converge\n",
      "  \"the coef_ did not converge\", ConvergenceWarning)\n",
      "/root/.pyenv/versions/3.6.0/lib/python3.6/site-packages/sklearn/linear_model/sag.py:326: ConvergenceWarning: The max_iter was reached which means the coef_ did not converge\n",
      "  \"the coef_ did not converge\", ConvergenceWarning)\n",
      "/root/.pyenv/versions/3.6.0/lib/python3.6/site-packages/sklearn/linear_model/sag.py:326: ConvergenceWarning: The max_iter was reached which means the coef_ did not converge\n",
      "  \"the coef_ did not converge\", ConvergenceWarning)\n",
      "/root/.pyenv/versions/3.6.0/lib/python3.6/site-packages/sklearn/linear_model/sag.py:326: ConvergenceWarning: The max_iter was reached which means the coef_ did not converge\n",
      "  \"the coef_ did not converge\", ConvergenceWarning)\n",
      "/root/.pyenv/versions/3.6.0/lib/python3.6/site-packages/sklearn/linear_model/sag.py:326: ConvergenceWarning: The max_iter was reached which means the coef_ did not converge\n",
      "  \"the coef_ did not converge\", ConvergenceWarning)\n",
      "/root/.pyenv/versions/3.6.0/lib/python3.6/site-packages/sklearn/linear_model/sag.py:326: ConvergenceWarning: The max_iter was reached which means the coef_ did not converge\n",
      "  \"the coef_ did not converge\", ConvergenceWarning)\n",
      "/root/.pyenv/versions/3.6.0/lib/python3.6/site-packages/sklearn/linear_model/sag.py:326: ConvergenceWarning: The max_iter was reached which means the coef_ did not converge\n",
      "  \"the coef_ did not converge\", ConvergenceWarning)\n",
      "/root/.pyenv/versions/3.6.0/lib/python3.6/site-packages/sklearn/linear_model/sag.py:326: ConvergenceWarning: The max_iter was reached which means the coef_ did not converge\n",
      "  \"the coef_ did not converge\", ConvergenceWarning)\n",
      "/root/.pyenv/versions/3.6.0/lib/python3.6/site-packages/sklearn/linear_model/sag.py:326: ConvergenceWarning: The max_iter was reached which means the coef_ did not converge\n",
      "  \"the coef_ did not converge\", ConvergenceWarning)\n"
     ]
    }
   ],
   "source": [
    "parameters = {'class_weight':('balanced', None), 'C':[0.1, 1, 10, 20, 50]}\n",
    "clf = GridSearchCV(lr, parameters, cv=3, scoring='f1_micro')\n",
    "#pipe = Pipeline([('vect', vectorizer), ('clf', lr)])\n",
    "clf.fit(train_res, data_train['classes_six'].values)"
   ]
  },
  {
   "cell_type": "code",
   "execution_count": 23,
   "metadata": {},
   "outputs": [
    {
     "data": {
      "text/plain": [
       "GridSearchCV(cv=3, error_score='raise',\n",
       "       estimator=MultinomialNB(alpha=0.0001, class_prior=None, fit_prior=True),\n",
       "       fit_params=None, iid=True, n_jobs=1,\n",
       "       param_grid={'alpha': [0.0001, 0.001, 0.01, 0.1, 1.0]},\n",
       "       pre_dispatch='2*n_jobs', refit=True, return_train_score='warn',\n",
       "       scoring='f1_micro', verbose=0)"
      ]
     },
     "execution_count": 23,
     "metadata": {},
     "output_type": "execute_result"
    }
   ],
   "source": [
    "parameters = {'alpha': [0.0001, 0.001, 0.01, 0.1, 1.0]}\n",
    "clf = GridSearchCV(mb_clf, parameters, cv=3, scoring='f1_micro')\n",
    "#pipe = Pipeline([('vect', vectorizer), ('clf', lr)])\n",
    "clf.fit(train_res, data_train['classes_six'])"
   ]
  },
  {
   "cell_type": "code",
   "execution_count": 20,
   "metadata": {},
   "outputs": [
    {
     "data": {
      "text/plain": [
       "MultinomialNB(alpha=0.0001, class_prior=None, fit_prior=True)"
      ]
     },
     "execution_count": 20,
     "metadata": {},
     "output_type": "execute_result"
    }
   ],
   "source": [
    "mb_clf.fit(train_res, data_train['classes_six'])"
   ]
  },
  {
   "cell_type": "code",
   "execution_count": 24,
   "metadata": {},
   "outputs": [
    {
     "data": {
      "text/plain": [
       "{'alpha': 0.0001}"
      ]
     },
     "execution_count": 24,
     "metadata": {},
     "output_type": "execute_result"
    }
   ],
   "source": [
    "clf.best_params_"
   ]
  },
  {
   "cell_type": "code",
   "execution_count": 56,
   "metadata": {},
   "outputs": [
    {
     "data": {
      "text/plain": [
       "Pipeline(memory=None,\n",
       "     steps=[('vect', TfidfVectorizer(analyzer='word', binary=False, decode_error='strict',\n",
       "        dtype=<class 'numpy.int64'>, encoding='utf-8', input='content',\n",
       "        lowercase=True, max_df=1.0, max_features=None, min_df=1,\n",
       "        ngram_range=(1, 1), norm='l2', preprocessor=None, smooth_idf=True,\n",
       "  ..._jobs=-1,\n",
       "            oob_score=False, random_state=None, verbose=0,\n",
       "            warm_start=False))])"
      ]
     },
     "execution_count": 56,
     "metadata": {},
     "output_type": "execute_result"
    }
   ],
   "source": [
    "from sklearn.pipeline import Pipeline\n",
    "\n",
    "text_clf = Pipeline([('vect', vectorizer), ('clf', rf)])\n",
    "text_clf.fit(data_train['corrections'], data_train['classes_six'])"
   ]
  },
  {
   "cell_type": "code",
   "execution_count": 23,
   "metadata": {},
   "outputs": [],
   "source": [
    "X_valtfidf = vectorizer.transform(data_val['corrections'])"
   ]
  },
  {
   "cell_type": "code",
   "execution_count": null,
   "metadata": {},
   "outputs": [],
   "source": [
    "from sklearn.metrics import f1_score\n",
    "y_pred = rf.predict(X_traintfidf)\n",
    "f1_score(data_train['classes_six'], y_pred, average='micro')"
   ]
  },
  {
   "cell_type": "code",
   "execution_count": 32,
   "metadata": {},
   "outputs": [
    {
     "data": {
      "text/plain": [
       "array([0.03977721, 0.03434718, 0.02401268, ..., 0.00122229, 0.0149539 ,\n",
       "       0.0355236 ])"
      ]
     },
     "execution_count": 32,
     "metadata": {},
     "output_type": "execute_result"
    }
   ],
   "source": [
    "train_res.data"
   ]
  },
  {
   "cell_type": "code",
   "execution_count": null,
   "metadata": {},
   "outputs": [],
   "source": [
    "lr.fit(train_res, data_train['classes_six'].values)"
   ]
  },
  {
   "cell_type": "code",
   "execution_count": 35,
   "metadata": {},
   "outputs": [
    {
     "data": {
      "text/plain": [
       "0.0991963932525211"
      ]
     },
     "execution_count": 35,
     "metadata": {},
     "output_type": "execute_result"
    }
   ],
   "source": [
    "from sklearn.metrics import f1_score\n",
    "y_pred = lr.predict(train_res)\n",
    "f1_score(data_train['classes_six'], y_pred, average='micro')"
   ]
  },
  {
   "cell_type": "code",
   "execution_count": 31,
   "metadata": {},
   "outputs": [
    {
     "data": {
      "text/plain": [
       "623841                                  шайба упорная сталь\n",
       "787751        взрывобезопасное кабельное вводное устройство\n",
       "24952     заглушка для закрытия отврстия бароскопа газов...\n",
       "971049    боксы для криопробирок для пробирок поликарбон...\n",
       "340320    артикул уплотнение материал резина входит сост...\n",
       "422485                                              ноутбук\n",
       "837658                                                хомут\n",
       "478320    угги сапогиженскиеверх текстиль подошва резины...\n",
       "831754                                        седло клапана\n",
       "136881                                   сумка воловья кожа\n",
       "Name: corrections, dtype: object"
      ]
     },
     "execution_count": 31,
     "metadata": {},
     "output_type": "execute_result"
    }
   ],
   "source": [
    "X_train['corrections'][10:20]"
   ]
  },
  {
   "cell_type": "code",
   "execution_count": 117,
   "metadata": {},
   "outputs": [
    {
     "data": {
      "application/vnd.jupyter.widget-view+json": {
       "model_id": "c87a19d7c16b486787413ee2e52db232",
       "version_major": 2,
       "version_minor": 0
      },
      "text/html": [
       "<p>Failed to display Jupyter Widget of type <code>HBox</code>.</p>\n",
       "<p>\n",
       "  If you're reading this message in the Jupyter Notebook or JupyterLab Notebook, it may mean\n",
       "  that the widgets JavaScript is still loading. If this message persists, it\n",
       "  likely means that the widgets JavaScript library is either not installed or\n",
       "  not enabled. See the <a href=\"https://ipywidgets.readthedocs.io/en/stable/user_install.html\">Jupyter\n",
       "  Widgets Documentation</a> for setup instructions.\n",
       "</p>\n",
       "<p>\n",
       "  If you're reading this message in another frontend (for example, a static\n",
       "  rendering on GitHub or <a href=\"https://nbviewer.jupyter.org/\">NBViewer</a>),\n",
       "  it may mean that your frontend doesn't currently support widgets.\n",
       "</p>\n"
      ],
      "text/plain": [
       "HBox(children=(IntProgress(value=0, max=184543), HTML(value='')))"
      ]
     },
     "metadata": {},
     "output_type": "display_data"
    },
    {
     "name": "stdout",
     "output_type": "stream",
     "text": [
      "\n"
     ]
    },
    {
     "data": {
      "application/vnd.jupyter.widget-view+json": {
       "model_id": "51023fc9c05c4bf99066ca138f86af54",
       "version_major": 2,
       "version_minor": 0
      },
      "text/html": [
       "<p>Failed to display Jupyter Widget of type <code>HBox</code>.</p>\n",
       "<p>\n",
       "  If you're reading this message in the Jupyter Notebook or JupyterLab Notebook, it may mean\n",
       "  that the widgets JavaScript is still loading. If this message persists, it\n",
       "  likely means that the widgets JavaScript library is either not installed or\n",
       "  not enabled. See the <a href=\"https://ipywidgets.readthedocs.io/en/stable/user_install.html\">Jupyter\n",
       "  Widgets Documentation</a> for setup instructions.\n",
       "</p>\n",
       "<p>\n",
       "  If you're reading this message in another frontend (for example, a static\n",
       "  rendering on GitHub or <a href=\"https://nbviewer.jupyter.org/\">NBViewer</a>),\n",
       "  it may mean that your frontend doesn't currently support widgets.\n",
       "</p>\n"
      ],
      "text/plain": [
       "HBox(children=(IntProgress(value=0, max=194), HTML(value='')))"
      ]
     },
     "metadata": {},
     "output_type": "display_data"
    },
    {
     "name": "stdout",
     "output_type": "stream",
     "text": [
      "\n",
      "(184543, 28217)\n",
      "(184543, 184543)\n"
     ]
    }
   ],
   "source": [
    "import htz_vectorizer\n",
    "from htz_vectorizer import HTZVectorizer\n",
    "\n",
    "htz = HTZVectorizer()\n",
    "train_res = htz.fit_transform(data_train['lemmas'], data_train['classes_six'].values)"
   ]
  },
  {
   "cell_type": "code",
   "execution_count": 5,
   "metadata": {},
   "outputs": [
    {
     "name": "stdout",
     "output_type": "stream",
     "text": [
      "(184543, 194)\n"
     ]
    }
   ],
   "source": [
    "print(train_res.shape)"
   ]
  },
  {
   "cell_type": "code",
   "execution_count": 13,
   "metadata": {},
   "outputs": [
    {
     "data": {
      "text/plain": [
       "<79090x194 sparse matrix of type '<class 'numpy.float64'>'\n",
       "\twith 1059749 stored elements in Compressed Sparse Row format>"
      ]
     },
     "execution_count": 13,
     "metadata": {},
     "output_type": "execute_result"
    }
   ],
   "source": [
    "test_res = htz.transform(data_val['lemmas'])\n",
    "test_res"
   ]
  },
  {
   "cell_type": "code",
   "execution_count": 14,
   "metadata": {},
   "outputs": [
    {
     "data": {
      "text/plain": [
       "array([0.27648033, 0.05319383, 0.00684907, ..., 0.00391213, 0.00042352,\n",
       "       0.0049279 ])"
      ]
     },
     "execution_count": 14,
     "metadata": {},
     "output_type": "execute_result"
    }
   ],
   "source": [
    "test_res.data"
   ]
  },
  {
   "cell_type": "code",
   "execution_count": 22,
   "metadata": {},
   "outputs": [
    {
     "data": {
      "text/plain": [
       "RandomForestClassifier(bootstrap=True, class_weight=None, criterion='gini',\n",
       "            max_depth=None, max_features='auto', max_leaf_nodes=None,\n",
       "            min_impurity_decrease=0.0, min_impurity_split=None,\n",
       "            min_samples_leaf=1, min_samples_split=2,\n",
       "            min_weight_fraction_leaf=0.0, n_estimators=10, n_jobs=-1,\n",
       "            oob_score=False, random_state=None, verbose=0,\n",
       "            warm_start=False)"
      ]
     },
     "execution_count": 22,
     "metadata": {},
     "output_type": "execute_result"
    }
   ],
   "source": [
    "rf.fit(train_res, data_train['classes_six'])"
   ]
  },
  {
   "cell_type": "code",
   "execution_count": 26,
   "metadata": {},
   "outputs": [
    {
     "data": {
      "text/plain": [
       "0.7283365258785821"
      ]
     },
     "execution_count": 26,
     "metadata": {},
     "output_type": "execute_result"
    }
   ],
   "source": [
    "from sklearn.metrics import f1_score\n",
    "y_pred = rf.predict(test_res)\n",
    "f1_score(data_val['classes_six'], y_pred, average='micro')"
   ]
  },
  {
   "cell_type": "code",
   "execution_count": null,
   "metadata": {},
   "outputs": [],
   "source": [
    "from sklearn.metrics import f1_score\n",
    "y_pred = rf.predict(X_traintfidf)\n",
    "f1_score(data_train['classes_six'], y_pred, average='micro')"
   ]
  },
  {
   "cell_type": "code",
   "execution_count": 108,
   "metadata": {},
   "outputs": [],
   "source": [
    "feature_names = vectorizer.get_feature_names()\n",
    "indices = np.argsort(rf.feature_importances_)\n",
    "feature_names = [feature_names[i] for i in indices[::-1]]"
   ]
  },
  {
   "cell_type": "code",
   "execution_count": 111,
   "metadata": {},
   "outputs": [
    {
     "data": {
      "text/html": [
       "<div>\n",
       "<style scoped>\n",
       "    .dataframe tbody tr th:only-of-type {\n",
       "        vertical-align: middle;\n",
       "    }\n",
       "\n",
       "    .dataframe tbody tr th {\n",
       "        vertical-align: top;\n",
       "    }\n",
       "\n",
       "    .dataframe thead th {\n",
       "        text-align: right;\n",
       "    }\n",
       "</style>\n",
       "<table border=\"1\" class=\"dataframe\">\n",
       "  <thead>\n",
       "    <tr style=\"text-align: right;\">\n",
       "      <th></th>\n",
       "      <th>importance</th>\n",
       "    </tr>\n",
       "  </thead>\n",
       "  <tbody>\n",
       "    <tr>\n",
       "      <th>хлопок</th>\n",
       "      <td>0.011978</td>\n",
       "    </tr>\n",
       "    <tr>\n",
       "      <th>болт</th>\n",
       "      <td>0.011633</td>\n",
       "    </tr>\n",
       "    <tr>\n",
       "      <th>футболка</th>\n",
       "      <td>0.011255</td>\n",
       "    </tr>\n",
       "    <tr>\n",
       "      <th>шайба</th>\n",
       "      <td>0.009101</td>\n",
       "    </tr>\n",
       "    <tr>\n",
       "      <th>уплотнение</th>\n",
       "      <td>0.007698</td>\n",
       "    </tr>\n",
       "    <tr>\n",
       "      <th>крем</th>\n",
       "      <td>0.007447</td>\n",
       "    </tr>\n",
       "    <tr>\n",
       "      <th>жен</th>\n",
       "      <td>0.006966</td>\n",
       "    </tr>\n",
       "    <tr>\n",
       "      <th>полиэстер</th>\n",
       "      <td>0.006316</td>\n",
       "    </tr>\n",
       "    <tr>\n",
       "      <th>фланец</th>\n",
       "      <td>0.006296</td>\n",
       "    </tr>\n",
       "    <tr>\n",
       "      <th>фильтр</th>\n",
       "      <td>0.006240</td>\n",
       "    </tr>\n",
       "  </tbody>\n",
       "</table>\n",
       "</div>"
      ],
      "text/plain": [
       "            importance\n",
       "хлопок        0.011978\n",
       "болт          0.011633\n",
       "футболка      0.011255\n",
       "шайба         0.009101\n",
       "уплотнение    0.007698\n",
       "крем          0.007447\n",
       "жен           0.006966\n",
       "полиэстер     0.006316\n",
       "фланец        0.006296\n",
       "фильтр        0.006240"
      ]
     },
     "execution_count": 111,
     "metadata": {},
     "output_type": "execute_result"
    }
   ],
   "source": [
    "feature_importances = pd.DataFrame(sorted(rf.feature_importances_, reverse=True), feature_names,\n",
    "                                    columns=['importance'])\n",
    "feature_importances[:10]"
   ]
  }
 ],
 "metadata": {
  "kernelspec": {
   "display_name": "Python 3",
   "language": "python",
   "name": "python3"
  },
  "language_info": {
   "codemirror_mode": {
    "name": "ipython",
    "version": 3
   },
   "file_extension": ".py",
   "mimetype": "text/x-python",
   "name": "python",
   "nbconvert_exporter": "python",
   "pygments_lexer": "ipython3",
   "version": "3.6.8"
  }
 },
 "nbformat": 4,
 "nbformat_minor": 2
}
